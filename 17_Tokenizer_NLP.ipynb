{
 "cells": [
  {
   "cell_type": "code",
   "execution_count": 1,
   "id": "3e96de81",
   "metadata": {},
   "outputs": [
    {
     "name": "stderr",
     "output_type": "stream",
     "text": [
      "2023-09-17 00:08:59.992145: I tensorflow/core/platform/cpu_feature_guard.cc:193] This TensorFlow binary is optimized with oneAPI Deep Neural Network Library (oneDNN) to use the following CPU instructions in performance-critical operations:  SSE4.1 SSE4.2\n",
      "To enable them in other operations, rebuild TensorFlow with the appropriate compiler flags.\n"
     ]
    }
   ],
   "source": [
    "from tensorflow.keras.preprocessing.text import Tokenizer"
   ]
  },
  {
   "cell_type": "code",
   "execution_count": 2,
   "id": "e6f80b21",
   "metadata": {},
   "outputs": [],
   "source": [
    "sentences = [\"my favorite food is ice cream\",\n",
    "            \"do you like ice cream too\"]"
   ]
  },
  {
   "cell_type": "code",
   "execution_count": 3,
   "id": "4bdb861a",
   "metadata": {},
   "outputs": [],
   "source": [
    "tokenizer = Tokenizer(num_words=100,oov_token='<OOV>')"
   ]
  },
  {
   "cell_type": "code",
   "execution_count": 4,
   "id": "0eaeb309",
   "metadata": {},
   "outputs": [],
   "source": [
    "tokenizer.fit_on_texts(sentences)"
   ]
  },
  {
   "cell_type": "code",
   "execution_count": 5,
   "id": "2276eea8",
   "metadata": {},
   "outputs": [],
   "source": [
    "word_index = tokenizer.word_index"
   ]
  },
  {
   "cell_type": "code",
   "execution_count": 6,
   "id": "5e7089f5",
   "metadata": {},
   "outputs": [
    {
     "name": "stdout",
     "output_type": "stream",
     "text": [
      "{'<OOV>': 1, 'ice': 2, 'cream': 3, 'my': 4, 'favorite': 5, 'food': 6, 'is': 7, 'do': 8, 'you': 9, 'like': 10, 'too': 11}\n"
     ]
    }
   ],
   "source": [
    "print(word_index)"
   ]
  },
  {
   "cell_type": "code",
   "execution_count": 7,
   "id": "c8950279",
   "metadata": {},
   "outputs": [],
   "source": [
    "sequences = tokenizer.texts_to_sequences(sentences)"
   ]
  },
  {
   "cell_type": "code",
   "execution_count": 8,
   "id": "1250541b",
   "metadata": {},
   "outputs": [
    {
     "name": "stdout",
     "output_type": "stream",
     "text": [
      "[[4, 5, 6, 7, 2, 3], [8, 9, 10, 2, 3, 11]]\n"
     ]
    }
   ],
   "source": [
    "print(sequences)"
   ]
  },
  {
   "cell_type": "code",
   "execution_count": 9,
   "id": "1e409c28",
   "metadata": {},
   "outputs": [],
   "source": [
    "sentences2 = [\"I like hot choclate and ice cream\"]"
   ]
  },
  {
   "cell_type": "code",
   "execution_count": 10,
   "id": "c6cb9917",
   "metadata": {},
   "outputs": [],
   "source": [
    "sequences2 = tokenizer.texts_to_sequences(sentences2)"
   ]
  },
  {
   "cell_type": "code",
   "execution_count": 11,
   "id": "7e8aa976",
   "metadata": {},
   "outputs": [
    {
     "name": "stdout",
     "output_type": "stream",
     "text": [
      "[[1, 10, 1, 1, 1, 2, 3]]\n"
     ]
    }
   ],
   "source": [
    "print(sequences2)"
   ]
  },
  {
   "cell_type": "code",
   "execution_count": 12,
   "id": "3b5dea4c",
   "metadata": {},
   "outputs": [],
   "source": [
    "# Padding\n",
    "from tensorflow.keras.preprocessing.sequence import pad_sequences"
   ]
  },
  {
   "cell_type": "code",
   "execution_count": 13,
   "id": "1d379bb1",
   "metadata": {},
   "outputs": [
    {
     "data": {
      "text/plain": [
       "['my favorite food is ice cream', 'do you like ice cream too']"
      ]
     },
     "execution_count": 13,
     "metadata": {},
     "output_type": "execute_result"
    }
   ],
   "source": [
    "sentences"
   ]
  },
  {
   "cell_type": "code",
   "execution_count": 14,
   "id": "339fbf3f",
   "metadata": {},
   "outputs": [],
   "source": [
    "tokenizer = Tokenizer(num_words=100,oov_token='<OOV>')"
   ]
  },
  {
   "cell_type": "code",
   "execution_count": 15,
   "id": "a5b626ca",
   "metadata": {},
   "outputs": [],
   "source": [
    "tokenizer.fit_on_texts(sentences)"
   ]
  },
  {
   "cell_type": "code",
   "execution_count": 16,
   "id": "88e8a9f8",
   "metadata": {},
   "outputs": [],
   "source": [
    "word_index = tokenizer.word_index"
   ]
  },
  {
   "cell_type": "code",
   "execution_count": 17,
   "id": "3fe1ef72",
   "metadata": {},
   "outputs": [
    {
     "name": "stdout",
     "output_type": "stream",
     "text": [
      "{'<OOV>': 1, 'ice': 2, 'cream': 3, 'my': 4, 'favorite': 5, 'food': 6, 'is': 7, 'do': 8, 'you': 9, 'like': 10, 'too': 11}\n"
     ]
    }
   ],
   "source": [
    "print(word_index)"
   ]
  },
  {
   "cell_type": "code",
   "execution_count": 18,
   "id": "13910e99",
   "metadata": {},
   "outputs": [],
   "source": [
    "sequences = tokenizer.texts_to_sequences(sentences)"
   ]
  },
  {
   "cell_type": "code",
   "execution_count": 19,
   "id": "f6042cae",
   "metadata": {},
   "outputs": [
    {
     "name": "stdout",
     "output_type": "stream",
     "text": [
      "[[4, 5, 6, 7, 2, 3], [8, 9, 10, 2, 3, 11]]\n"
     ]
    }
   ],
   "source": [
    "print(sequences)"
   ]
  },
  {
   "cell_type": "code",
   "execution_count": 20,
   "id": "db02535b",
   "metadata": {},
   "outputs": [],
   "source": [
    "padded = pad_sequences(sequences)"
   ]
  },
  {
   "cell_type": "code",
   "execution_count": 21,
   "id": "ed1f423d",
   "metadata": {},
   "outputs": [
    {
     "name": "stdout",
     "output_type": "stream",
     "text": [
      "[[ 4  5  6  7  2  3]\n",
      " [ 8  9 10  2  3 11]]\n"
     ]
    }
   ],
   "source": [
    "print(padded)"
   ]
  },
  {
   "cell_type": "code",
   "execution_count": 22,
   "id": "5b48b1e2",
   "metadata": {},
   "outputs": [
    {
     "name": "stdout",
     "output_type": "stream",
     "text": [
      "[[ 4  5  6  7  2  3  0  0  0  0  0  0  0  0  0]\n",
      " [ 8  9 10  2  3 11  0  0  0  0  0  0  0  0  0]]\n"
     ]
    }
   ],
   "source": [
    "padded = pad_sequences(sequences,maxlen=15,padding='post')\n",
    "print(padded)"
   ]
  },
  {
   "cell_type": "code",
   "execution_count": null,
   "id": "21dad79e",
   "metadata": {},
   "outputs": [],
   "source": []
  }
 ],
 "metadata": {
  "kernelspec": {
   "display_name": "Python 3 (ipykernel)",
   "language": "python",
   "name": "python3"
  },
  "language_info": {
   "codemirror_mode": {
    "name": "ipython",
    "version": 3
   },
   "file_extension": ".py",
   "mimetype": "text/x-python",
   "name": "python",
   "nbconvert_exporter": "python",
   "pygments_lexer": "ipython3",
   "version": "3.8.16"
  }
 },
 "nbformat": 4,
 "nbformat_minor": 5
}
