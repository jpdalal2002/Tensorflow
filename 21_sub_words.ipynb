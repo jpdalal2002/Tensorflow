{
 "cells": [
  {
   "cell_type": "code",
   "execution_count": 3,
   "id": "96b9a2ad",
   "metadata": {},
   "outputs": [
    {
     "name": "stderr",
     "output_type": "stream",
     "text": [
      "/Users/janhavidalal/opt/anaconda3/envs/myenv/lib/python3.8/site-packages/tqdm/auto.py:22: TqdmWarning: IProgress not found. Please update jupyter and ipywidgets. See https://ipywidgets.readthedocs.io/en/stable/user_install.html\n",
      "  from .autonotebook import tqdm as notebook_tqdm\n"
     ]
    }
   ],
   "source": [
    "import tensorflow as tf\n",
    "from tensorflow.keras.preprocessing.text import Tokenizer\n",
    "from tensorflow.keras.preprocessing.sequence import pad_sequences\n",
    "import numpy as np\n",
    "import pandas as pd\n",
    "import tensorflow_datasets as tfds"
   ]
  },
  {
   "cell_type": "code",
   "execution_count": 4,
   "id": "14c38cec",
   "metadata": {},
   "outputs": [],
   "source": [
    "dataset = pd.read_csv('/Users/janhavidalal/.keras/datasets/reviews.csv')"
   ]
  },
  {
   "cell_type": "code",
   "execution_count": 5,
   "id": "7fd6ff84",
   "metadata": {},
   "outputs": [],
   "source": [
    "sentences = dataset['text'].tolist()\n",
    "\n",
    "labels = dataset['sentiment'].tolist()"
   ]
  },
  {
   "cell_type": "code",
   "execution_count": 6,
   "id": "e8ad2605",
   "metadata": {},
   "outputs": [],
   "source": [
    "vocab_size = 1000\n",
    "tokenizer = tfds.deprecated.text.SubwordTextEncoder.build_from_corpus(sentences,vocab_size,max_subword_length=5)"
   ]
  },
  {
   "cell_type": "code",
   "execution_count": 7,
   "id": "eb2acf86",
   "metadata": {},
   "outputs": [
    {
     "name": "stdout",
     "output_type": "stream",
     "text": [
      "I have to jiggle the plug to get it to line up right to get decent volume.\n"
     ]
    }
   ],
   "source": [
    "num = 5\n",
    "print(sentences[num])"
   ]
  },
  {
   "cell_type": "code",
   "execution_count": 8,
   "id": "5ee47dce",
   "metadata": {},
   "outputs": [
    {
     "name": "stdout",
     "output_type": "stream",
     "text": [
      "[4, 31, 6, 849, 162, 450, 12, 1, 600, 438, 775, 6, 175, 14, 6, 55, 213, 159, 474, 775, 6, 175, 614, 380, 295, 148, 72, 789]\n"
     ]
    }
   ],
   "source": [
    "encoded = tokenizer.encode(sentences[num])\n",
    "print(encoded)"
   ]
  },
  {
   "cell_type": "code",
   "execution_count": 9,
   "id": "77dab544",
   "metadata": {},
   "outputs": [
    {
     "name": "stdout",
     "output_type": "stream",
     "text": [
      "I \n",
      "have \n",
      "to \n",
      "j\n",
      "ig\n",
      "gl\n",
      "e \n",
      "the \n",
      "pl\n",
      "ug\n",
      " \n",
      "to \n",
      "get \n",
      "it \n",
      "to \n",
      "li\n",
      "ne \n",
      "up \n",
      "right\n",
      " \n",
      "to \n",
      "get \n",
      "dec\n",
      "ent \n",
      "vo\n",
      "lu\n",
      "me\n",
      ".\n"
     ]
    }
   ],
   "source": [
    "for i in encoded:\n",
    "    print(tokenizer.decode([i]))"
   ]
  },
  {
   "cell_type": "code",
   "execution_count": 10,
   "id": "9bc28abd",
   "metadata": {},
   "outputs": [
    {
     "name": "stdout",
     "output_type": "stream",
     "text": [
      "[291, 38, 61, 283, 4, 96, 843, 853, 782, 8, 584, 11, 403, 44, 15, 21, 55, 610, 168, 775, 154, 145, 334, 11, 353, 8, 19, 1, 630, 636, 775, 361, 244, 179, 26, 130, 1, 119, 14, 181, 67, 6, 216, 26, 1, 124, 163, 789]\n"
     ]
    }
   ],
   "source": [
    "for i,sentence in enumerate(sentences):\n",
    "    sentences[i] = tokenizer.encode(sentence)\n",
    "print(sentences[i])"
   ]
  },
  {
   "cell_type": "code",
   "execution_count": 11,
   "id": "f3684213",
   "metadata": {},
   "outputs": [],
   "source": [
    "max_length = 50\n",
    "trunc_type = 'post'\n",
    "padding_type = 'post'"
   ]
  },
  {
   "cell_type": "code",
   "execution_count": 12,
   "id": "3a55eb96",
   "metadata": {},
   "outputs": [],
   "source": [
    "training_size = int(len(sentences)*0.8)\n",
    "training_sentences = sentences[0:training_size]\n",
    "testing_sentences = sentences[training_size:]\n",
    "training_labels = labels[0:training_size]\n",
    "testing_labels = labels[training_size:]\n",
    "training_labels_final = np.array(training_labels)\n",
    "testing_labels_final = np.array(testing_labels)"
   ]
  },
  {
   "cell_type": "code",
   "execution_count": null,
   "id": "2daf6d31",
   "metadata": {},
   "outputs": [],
   "source": []
  }
 ],
 "metadata": {
  "kernelspec": {
   "display_name": "Python 3 (ipykernel)",
   "language": "python",
   "name": "python3"
  },
  "language_info": {
   "codemirror_mode": {
    "name": "ipython",
    "version": 3
   },
   "file_extension": ".py",
   "mimetype": "text/x-python",
   "name": "python",
   "nbconvert_exporter": "python",
   "pygments_lexer": "ipython3",
   "version": "3.8.16"
  }
 },
 "nbformat": 4,
 "nbformat_minor": 5
}
